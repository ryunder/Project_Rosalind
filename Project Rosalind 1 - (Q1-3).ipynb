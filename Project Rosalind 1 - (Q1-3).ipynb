{
 "cells": [
  {
   "cell_type": "code",
   "execution_count": 4,
   "metadata": {},
   "outputs": [
    {
     "name": "stdout",
     "output_type": "stream",
     "text": [
      "Please enter DNA sequence: \n",
      "agtCAT\n"
     ]
    },
    {
     "data": {
      "text/plain": [
       "'AGTCAT'"
      ]
     },
     "execution_count": 4,
     "metadata": {},
     "output_type": "execute_result"
    }
   ],
   "source": [
    "DNA = \"\"\n",
    "print(\"Please enter DNA sequence: \")\n",
    "DNA = input()\n",
    "DNA = DNA.upper()\n",
    "DNA"
   ]
  },
  {
   "cell_type": "code",
   "execution_count": 3,
   "metadata": {},
   "outputs": [
    {
     "name": "stdout",
     "output_type": "stream",
     "text": [
      "[2, 1, 1, 2]\n"
     ]
    }
   ],
   "source": [
    "#Q1: Counting nucleotides\n",
    "\n",
    "#Make count function\n",
    "def count_nt(seq):\n",
    "    A = 0\n",
    "    C = 0\n",
    "    G = 0\n",
    "    T = 0\n",
    "    for x in seq:\n",
    "        if x == \"A\" or x == \"a\":\n",
    "            A += 1\n",
    "        elif x == \"C\" or x == \"c\":\n",
    "            C += 1\n",
    "        elif x == \"G\" or x == \"g\":\n",
    "            G += 1\n",
    "        elif x == \"T\" or x == \"t\":\n",
    "            T += 1\n",
    "        else:\n",
    "            print(\"Invalid sequence\")\n",
    "            return\n",
    "    results = [A,C,G,T]\n",
    "    print(results)\n",
    "    return\n",
    "\n",
    "count_nt(DNA)"
   ]
  },
  {
   "cell_type": "code",
   "execution_count": 40,
   "metadata": {},
   "outputs": [
    {
     "name": "stdout",
     "output_type": "stream",
     "text": [
      "AAGAUGCCGGAACUGUGGUUACGGUUGGAGAGGGAGCGCCCACCAGCCCUUCUUUUGUUGGCAUACACAAGUAUGGCUCGCGGUAUUACACACUGAGUCGGCGAGUACGCACACGGGAGUCUUCAGCCUCCUUCUGGAAGACACACUAUGCUAUGGUGAAGCCUUAGAUACGCUAAAAGUUUAUGGGGAUGCGGAGACAAGUUCCACGGCUCAAAACGUUUACACGUCUGCCUUCCUCAGAGCACAGGGCUAAUUUGCGAGUCGCGAAAGUUCUAGAGCCCCCAGUGCGGUACCGAAAUUAAAGGAACCAAAAGCGACGGUACACGUCUGGCACUUCAAGCAUCGAUUGGACUCGUAAGAACGCCCUUCUCCAACUCGGCAAUCAGCAUCCACCGUAUGUGAGUGGUGAGGAGUAUGCCUAACGGAAGAGGUAACAGGAGGUUCUGCAAUGAGCUGUACGAGCGUACGCUAACGCAGGCGGCCCAUGACGCCACUUGAAGUCCAUGAAAAGGCGCCGAUCCAUGGGACCUCCCAGAUCGUAACCCCCAGGGAAACUCACACAGUCAGCUGAUCGCCCAUUCGUGGCCCUUUAUACGAACCCUUCCAGUGCUGCUAUCAGCAUUGUUCGCGCAGCCUACUUGAUCCACCCAGUACAUUCAGUUAGGUAAGUACUGUACGUGGAUACCCGAGCCAAAACUCCUCAGUUGGUCCCCCGGUGGGUUGCAGACUCCCCAAUCGGGAGAAAAGCAGCUACGGCCAACUAAUUCUCACAAGUUGGGCAUCUUUGUUUGAAAGGCGUUUGAUCUCAAUAAGUGCGAGUAAGUAUACGUGUUUGACCAAGUACGGCAACGCUAACAGCCGGAGCGUCUUUCCAACAGAGGUGGUAACAGCUUUCUGACCUCGAACAGUUAGACGGUUCCGAGAUCUAUUAAGGUCCAAGAUGUGAGAAUCCCU\n"
     ]
    }
   ],
   "source": [
    "#Q2: Transcribing RNA -> DNA\n",
    "RNA = DNA.replace(\"T\",\"U\")\n",
    "print(RNA)"
   ]
  },
  {
   "cell_type": "code",
   "execution_count": 47,
   "metadata": {},
   "outputs": [
    {
     "name": "stdout",
     "output_type": "stream",
     "text": [
      "GGCTTACCCCTAAGTGCAACCGCCGCTCGATTTACACGGTCCAACGATTGGGTCTCGCCCTACTACGAAGACGATCGGCTCTAGCGTTCCAACCGTTGCGGTTCTTCCTAGTGTCTTGCTTGTAAAGCATCTTAAAGATGCTACTGAGTCTATAGGACCAGTATAAGCGTCTTGTGGAACGCTCGCGTGGTTTTTGTTGAGTAAGTGGTCCCGTCTAAACCCGCGGAGAGGACAGCGCCTTCACGCTCAGGGTAGTCACACGGAATTGATTCTATGATCCACGTCATACGCTCAGGAAACTACTAGACACGACGATTGCGGCTTTTCAGAACTGCTTCTCGGACGTGGACCTCAGCGATACGCCTTGGCCGGGCGTACTAATGGGCGTAATTAAAACGGATGCCCCAGTCAAGAAGGTGGTACAGCCAACAAACGCCACCGATCTCGTGGCCAGAAAAGAGAAACCCGAGCAACCATTCCGAGCTTTTAAATCTGATGTATGGGGCAATGATGCTGCCTATTCATTGCTTAGCCGAAAACTCAGGTCACTCTTCTCTTTGGCACCCTCTACCGGCCAGTTCAGCCGTAAAAGGGCGAGGGTCGTTAGTTTCAGCCGTGGTCGGGTCCCTGTACCGCGCCTCCATCCCACGGTCGGGCACCAGCTATCTATGTCAGAAAAGCCGGGTATACTTCGAAGGTTACAATAAGCAGTTGTCACCCTAGAGTCGCAGCTACAGAAACTAAGTCTTGTATAACGGACAGACGCTGGGGAGTCGGACACTATCTCTAGCACCCTTTTCAACGATACTGCTGGTTATCTTGGGAAGCTGAACTTCTTGAAAGAGGTTAGGGTTTCAAGGCACTAATTACGGACGGATCCATCGTATCGGTTTAGCTGATCCTTGGGGCGCCGAGGACGCGAGTCAAGCTGCTGACCGAGACCCTCCGGCAACGCGGAACT\n"
     ]
    }
   ],
   "source": [
    "#Q3 Return complement of DNA\n",
    "def rev_comp(seq):\n",
    "    DNA_comp = \"\"\n",
    "    for x in seq:\n",
    "        if x == \"A\" or x == \"a\":\n",
    "            DNA_comp += \"T\"\n",
    "        elif x == \"T\" or x == \"t\":\n",
    "            DNA_comp += \"A\"\n",
    "        elif x == \"C\" or x == \"c\":\n",
    "            DNA_comp += \"G\"\n",
    "        elif x == \"G\" or x == \"g\":\n",
    "            DNA_comp += \"C\"\n",
    "        else:\n",
    "            print(\"Invalid sequence\")\n",
    "            return\n",
    "    DNA_comp = \"\".join(reversed(DNA_comp))\n",
    "    print(DNA_comp)\n",
    "    return\n",
    "\n",
    "rev_comp(DNA)"
   ]
  },
  {
   "cell_type": "code",
   "execution_count": null,
   "metadata": {},
   "outputs": [],
   "source": []
  }
 ],
 "metadata": {
  "kernelspec": {
   "display_name": "Python 3",
   "language": "python",
   "name": "python3"
  },
  "language_info": {
   "codemirror_mode": {
    "name": "ipython",
    "version": 3
   },
   "file_extension": ".py",
   "mimetype": "text/x-python",
   "name": "python",
   "nbconvert_exporter": "python",
   "pygments_lexer": "ipython3",
   "version": "3.6.5"
  }
 },
 "nbformat": 4,
 "nbformat_minor": 2
}
