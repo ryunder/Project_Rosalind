{
 "cells": [
  {
   "cell_type": "code",
   "execution_count": 66,
   "metadata": {},
   "outputs": [
    {
     "name": "stdout",
     "output_type": "stream",
     "text": [
      "[1, 1, 3, 5, 11, 21, 43, 85, 171, 341, 683, 1365, 2731, 5461, 10923, 21845, 43691, 87381, 174763, 349525, 699051, 1398101, 2796203, 5592405, 11184811, 22369621, 44739243, 89478485, 178956971, 357913941, 715827883, 1431655765, 2863311531, 5726623061, 11453246123]\n"
     ]
    }
   ],
   "source": [
    "#Q4 Rabbits and Recurrence Relations - fibonacci sequence\n",
    "\n",
    "#n is months of breeding, with a litter of k rabbits\n",
    "def fib(n, k):\n",
    "    a,b = 1,1\n",
    "    if n==1 or n==2:\n",
    "        return 1\n",
    "    for i in range (n-1):\n",
    "        a,b = b,(a*k)+b\n",
    "        return a\n",
    "    print(a)\n",
    "    print(b)\n",
    "fib(4,3)\n",
    "\n",
    "def rabbit(n,k):\n",
    "    seq = []\n",
    "    a,b = 1,1\n",
    "    for i in range(n):\n",
    "        seq.append(a)\n",
    "        a,b = b,(a*k)+b\n",
    "    return seq\n",
    "print(rabbit(35,2))"
   ]
  },
  {
   "cell_type": "code",
   "execution_count": 64,
   "metadata": {},
   "outputs": [
    {
     "name": "stdout",
     "output_type": "stream",
     "text": [
      "13\n",
      "32\n",
      "13\n",
      "[1, 1, 2, 3, 5, 8, 13]\n"
     ]
    }
   ],
   "source": [
    "#First, try to print out fibonacci sequence\n",
    "def fibR(n): \n",
    "    if n ==1 or n==2:\n",
    "        return 1\n",
    "    return fibR(n-1)+fibR(n-2)\n",
    "        \n",
    "print(fibR(7))\n",
    "\n",
    "def fibL(n):\n",
    "    a = 1\n",
    "    b = 1\n",
    "    for i in range (n-1):\n",
    "        a = b\n",
    "        b = a + b\n",
    "    return a\n",
    "\n",
    "print(fibL(7))\n",
    "\n",
    "def fibL2(n):\n",
    "    a,b = 1,1\n",
    "    for i in range(n-1):\n",
    "        a,b = b,a+b\n",
    "    return a\n",
    "print(fibL2(7))\n",
    "\n",
    "def fibS(n):\n",
    "    seq = []\n",
    "    a,b = 1,1\n",
    "    for i in range(n):\n",
    "        seq.append(a)\n",
    "        a,b = b,a+b\n",
    "    return seq\n",
    "print(fibS(7))"
   ]
  }
 ],
 "metadata": {
  "kernelspec": {
   "display_name": "Python 3",
   "language": "python",
   "name": "python3"
  },
  "language_info": {
   "codemirror_mode": {
    "name": "ipython",
    "version": 3
   },
   "file_extension": ".py",
   "mimetype": "text/x-python",
   "name": "python",
   "nbconvert_exporter": "python",
   "pygments_lexer": "ipython3",
   "version": "3.6.5"
  }
 },
 "nbformat": 4,
 "nbformat_minor": 2
}
